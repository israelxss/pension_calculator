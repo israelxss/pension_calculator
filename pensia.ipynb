{
 "cells": [
  {
   "cell_type": "code",
   "execution_count": 1,
   "id": "6d75507c-3240-4eca-86b2-eb4cded67d7f",
   "metadata": {},
   "outputs": [],
   "source": [
    "import pandas as pd\n",
    "import matplotlib.pyplot as plt\n",
    "from ipywidgets import interact, FloatSlider, IntSlider, Layout, HTML, Button, VBox\n",
    "from IPython.display import display, clear_output\n",
    "from bidi.algorithm import get_display\n",
    "import arabic_reshaper\n",
    "\n",
    "# הגדרות פונט עבור עברית\n",
    "plt.rcParams['font.family'] = 'Arial'\n",
    "plt.rcParams['font.sans-serif'] = ['Arial']\n",
    "plt.rcParams['axes.unicode_minus'] = False\n",
    "\n",
    "#לצערי  תיקון טקסט עברי לגרפים\n",
    "def fix_hebrew_text(text):\n",
    "    reshaped_text = arabic_reshaper.reshape(text)\n",
    "    fixed_text = get_display(reshaped_text)\n",
    "    return fixed_text\n"
   ]
  },
  {
   "cell_type": "code",
   "execution_count": 2,
   "id": "33ea65d9-30cf-4bd5-87f8-a630335ce21d",
   "metadata": {},
   "outputs": [],
   "source": [
    "def pension_simulator(\n",
    "    management_fee_from_acc_perc,\n",
    "    management_fee_from_deposit_perc,\n",
    "    years_to_calculate,\n",
    "    current_accumulation_start,\n",
    "    monthly_deposit,\n",
    "    annual_return_perc\n",
    "):\n",
    "    management_fee_from_acc = management_fee_from_acc_perc / 100\n",
    "    management_fee_from_deposit = management_fee_from_deposit_perc / 100\n",
    "    annual_return = annual_return_perc / 100\n",
    "    annual_deposit = monthly_deposit * 12\n",
    "\n",
    "    data = []\n",
    "    current_accumulation = current_accumulation_start\n",
    "\n",
    "    for year in range(1, years_to_calculate + 1):\n",
    "        fees_from_deposit = annual_deposit * management_fee_from_deposit\n",
    "        fees_from_accumulation = current_accumulation * management_fee_from_acc\n",
    "        effective_accumulation_for_return = current_accumulation + annual_deposit - fees_from_deposit - fees_from_accumulation\n",
    "        return_on_accumulation = effective_accumulation_for_return * annual_return\n",
    "        end_of_year_accumulation = effective_accumulation_for_return + return_on_accumulation\n",
    "        total_fees = fees_from_deposit + fees_from_accumulation  # <--- חדש\n",
    "\n",
    "        data.append({\n",
    "            'שנה': year,\n",
    "            'צבירה בתחילת שנה': current_accumulation,\n",
    "            'הפקדות שנתיות': annual_deposit,\n",
    "            'דמי נ. מהפקדה': fees_from_deposit,\n",
    "            'דמי נ. מהצבירה': fees_from_accumulation,\n",
    "            'תשואה שנתית': return_on_accumulation,\n",
    "            'סך דמי ניהול (ש\"ח)': total_fees,\n",
    "            'צבירה בסוף שנה': end_of_year_accumulation\n",
    "        })\n",
    "\n",
    "        current_accumulation = end_of_year_accumulation\n",
    "\n",
    "    df = pd.DataFrame(data)\n",
    "    clear_output(wait=True)\n",
    "\n",
    "    print(\"--- טבלת תוצאות שנתית ---\")\n",
    "    display(df.style.format({\n",
    "        'צבירה בתחילת שנה': \"{:,.2f} ש\\\"ח\".format,\n",
    "        'הפקדות שנתיות': \"{:,.2f} ש\\\"ח\".format,\n",
    "        'דמי נ. מהפקדה': \"{:,.2f} ש\\\"ח\".format,\n",
    "        'דמי נ. מהצבירה': \"{:,.2f} ש\\\"ח\".format,\n",
    "        'תשואה שנתית': \"{:,.2f} ש\\\"ח\".format,\n",
    "        'סך דמי ניהול (ש\"ח)': \"{:,.2f} ש\\\"ח\".format,\n",
    "        'צבירה בסוף שנה': \"{:,.2f} ש\\\"ח\".format\n",
    "    }))\n",
    "\n",
    "    plt.figure(figsize=(14, 6))\n",
    "\n",
    "    plt.subplot(1, 2, 1)\n",
    "    plt.plot(df['שנה'], df['צבירה בסוף שנה'], marker='o', linestyle='-', color='skyblue')\n",
    "    plt.title(fix_hebrew_text('התפתחות הצבירה לאורך השנים'), fontsize=14, fontweight='bold')\n",
    "    plt.xlabel(fix_hebrew_text('שנה'), fontsize=12)\n",
    "    plt.ylabel(fix_hebrew_text('צבירה בסוף שנה (ש\"ח)'), fontsize=12)\n",
    "    plt.grid(True, linestyle='--', alpha=0.7)\n",
    "    plt.ticklabel_format(style='plain', axis='y')\n",
    "\n",
    "    plt.subplot(1, 2, 2)\n",
    "    plt.plot(df['שנה'], df['דמי נ. מהפקדה'].cumsum(), marker='x', linestyle='--', color='red', label=fix_hebrew_text('דמי ניהול מהפקדה (מצטבר)'))\n",
    "    plt.plot(df['שנה'], df['דמי נ. מהצבירה'].cumsum(), marker='s', linestyle='--', color='green', label=fix_hebrew_text('דמי ניהול מהצבירה (מצטבר)'))\n",
    "    plt.plot(df['שנה'], df['תשואה שנתית'].cumsum(), marker='^', linestyle='-', color='blue', linewidth=2, label=fix_hebrew_text('תשואה שנתית (מצטבר)'))\n",
    "    plt.plot(df['שנה'], df['סך דמי ניהול (ש\"ח)'].cumsum(), marker='D', linestyle='-', color='purple', linewidth=2, label=fix_hebrew_text('סך דמי ניהול (מצטבר)'))\n",
    "\n",
    "    plt.title(fix_hebrew_text('דמי ניהול ותשואה מצטברים לאורך השנים'), fontsize=14, fontweight='bold')\n",
    "    plt.xlabel(fix_hebrew_text('שנה'), fontsize=12)\n",
    "    plt.ylabel(fix_hebrew_text('סכום מצטבר (ש\"ח)'), fontsize=12)\n",
    "    plt.legend()\n",
    "    plt.grid(True, linestyle='--', alpha=0.7)\n",
    "    plt.ticklabel_format(style='plain', axis='y')\n",
    "\n",
    "    plt.tight_layout()\n",
    "    plt.show()\n",
    "\n",
    "    print(\"\\nהערה: סימולטור זה אינו כולל אינפלציה או שינויים עתידיים בתקנות.\")\n",
    "    print(\"התשואה מחושבת על הצבירה לאחר ניכוי דמי ניהול, בתוספת ההפקדות.\")\n"
   ]
  },
  {
   "cell_type": "code",
   "execution_count": 3,
   "id": "303a2c89-595d-4467-b225-1294ac53d658",
   "metadata": {},
   "outputs": [
    {
     "data": {
      "application/vnd.jupyter.widget-view+json": {
       "model_id": "fb44f49624db418bb894ae9e7ba8d00b",
       "version_major": 2,
       "version_minor": 0
      },
      "text/plain": [
       "HTML(value='<h2>הזן פרמטרים לסימולטור הפנסיה:</h2>')"
      ]
     },
     "metadata": {},
     "output_type": "display_data"
    },
    {
     "data": {
      "application/vnd.jupyter.widget-view+json": {
       "model_id": "cd101cd69ccf41e8b93fa842ca12ae3a",
       "version_major": 2,
       "version_minor": 0
      },
      "text/plain": [
       "interactive(children=(FloatSlider(value=0.17, description='דמי ניהול מהצבירה (%):', layout=Layout(width='90%')…"
      ]
     },
     "metadata": {},
     "output_type": "display_data"
    },
    {
     "data": {
      "application/vnd.jupyter.widget-view+json": {
       "model_id": "87717ddb9f6942458e1b65b8624a2593",
       "version_major": 2,
       "version_minor": 0
      },
      "text/plain": [
       "Button(button_style='info', description='השווה מסלול', style=ButtonStyle())"
      ]
     },
     "metadata": {},
     "output_type": "display_data"
    }
   ],
   "source": [
    "# סליידרים\n",
    "style = {'description_width': 'initial'}\n",
    "slider_layout = Layout(width='90%')\n",
    "\n",
    "fee_acc_slider = FloatSlider(min=0.00, max=0.5, step=0.01, value=0.17, description='דמי ניהול מהצבירה (%):', style=style, layout=slider_layout)\n",
    "fee_deposit_slider = FloatSlider(min=0.0, max=6.0, step=0.1, value=1.7, description='דמי ניהול מההפקדה (%):', style=style, layout=slider_layout)\n",
    "years_slider = IntSlider(min=1, max=67, step=1, value=45, description='מספר שנים לחישוב:', style=style, layout=slider_layout)\n",
    "current_acc_slider = FloatSlider(min=0, max=5000000, step=1000, value=197000, description='סכום צבירה נוכחי (ש\"ח):', style=style, layout=slider_layout)\n",
    "monthly_deposit_slider = FloatSlider(min=0, max=10000, step=100, value=3541, description='סכום הפקדה חודשי (ש\"ח):', style=style, layout=slider_layout)\n",
    "annual_return_slider = FloatSlider(min=-5.0, max=100, step=0.1, value=5.0, description='תשואה שנתית (%):', style=style, layout=slider_layout)\n",
    "\n",
    "header_html = HTML(\"<h2>הזן פרמטרים לסימולטור הפנסיה:</h2>\")\n",
    "display(header_html)\n",
    "\n",
    "interact(\n",
    "    pension_simulator,\n",
    "    management_fee_from_acc_perc=fee_acc_slider,\n",
    "    management_fee_from_deposit_perc=fee_deposit_slider,\n",
    "    years_to_calculate=years_slider,\n",
    "    current_accumulation_start=current_acc_slider,\n",
    "    monthly_deposit=monthly_deposit_slider,\n",
    "    annual_return_perc=annual_return_slider\n",
    ")\n",
    "\n",
    "# --------------------------\n",
    "# כפתור השוואת מסלולים\n",
    "# --------------------------\n",
    "comparison_data = pd.DataFrame()\n",
    "\n",
    "compare_button = Button(description=\"השווה מסלול\", button_style='info')\n",
    "\n",
    "def on_compare_button_clicked(b):\n",
    "    global comparison_data\n",
    "\n",
    "    acc_fee = fee_acc_slider.value\n",
    "    dep_fee = fee_deposit_slider.value\n",
    "    years = years_slider.value\n",
    "    current_acc = current_acc_slider.value\n",
    "    monthly_dep = monthly_deposit_slider.value\n",
    "    annual_return = annual_return_slider.value\n",
    "\n",
    "    annual_deposit = monthly_dep * 12\n",
    "    current = current_acc\n",
    "    results = []\n",
    "\n",
    "    for year in range(1, years + 1):\n",
    "        f_dep = annual_deposit * (dep_fee / 100)\n",
    "        f_acc = current * (acc_fee / 100)\n",
    "        total_fees = f_dep + f_acc\n",
    "        effective = current + annual_deposit - f_dep - f_acc\n",
    "        profit = effective * (annual_return / 100)\n",
    "        current = effective + profit\n",
    "\n",
    "        results.append({\n",
    "            'שנה': year,\n",
    "            f'{acc_fee:.2f}%/{dep_fee:.2f}%': total_fees\n",
    "        })\n",
    "\n",
    "    new_df = pd.DataFrame(results).set_index('שנה')\n",
    "\n",
    "    if comparison_data.empty:\n",
    "        comparison_data = new_df\n",
    "    else:\n",
    "        comparison_data = comparison_data.join(new_df, how='outer')\n",
    "\n",
    "    clear_output(wait=True)\n",
    "    display(header_html)\n",
    "    display(VBox([\n",
    "        fee_acc_slider, fee_deposit_slider, years_slider,\n",
    "        current_acc_slider, monthly_deposit_slider, annual_return_slider, compare_button\n",
    "    ]))\n",
    "    display(HTML(\"<h3>השוואת מסלולים לפי סך דמי ניהול:</h3>\"))\n",
    "    display(comparison_data.style.format(\"{:,.2f} ש\\\"ח\".format))\n",
    "\n",
    "compare_button.on_click(on_compare_button_clicked)\n",
    "display(compare_button)\n"
   ]
  },
  {
   "cell_type": "code",
   "execution_count": 4,
   "id": "058495f6-8b4c-4235-8f37-03afe37ec996",
   "metadata": {},
   "outputs": [
    {
     "data": {
      "text/html": [
       "<div>\n",
       "<style scoped>\n",
       "    .dataframe tbody tr th:only-of-type {\n",
       "        vertical-align: middle;\n",
       "    }\n",
       "\n",
       "    .dataframe tbody tr th {\n",
       "        vertical-align: top;\n",
       "    }\n",
       "\n",
       "    .dataframe thead th {\n",
       "        text-align: right;\n",
       "    }\n",
       "</style>\n",
       "<table border=\"1\" class=\"dataframe\">\n",
       "  <thead>\n",
       "    <tr style=\"text-align: right;\">\n",
       "      <th></th>\n",
       "    </tr>\n",
       "  </thead>\n",
       "  <tbody>\n",
       "  </tbody>\n",
       "</table>\n",
       "</div>"
      ],
      "text/plain": [
       "Empty DataFrame\n",
       "Columns: []\n",
       "Index: []"
      ]
     },
     "execution_count": 4,
     "metadata": {},
     "output_type": "execute_result"
    }
   ],
   "source": [
    "comparison_data"
   ]
  },
  {
   "cell_type": "code",
   "execution_count": null,
   "id": "9fc52fe2-9456-4590-8536-5fd6612be04a",
   "metadata": {},
   "outputs": [],
   "source": []
  }
 ],
 "metadata": {
  "kernelspec": {
   "display_name": "Python 3 (ipykernel)",
   "language": "python",
   "name": "python3"
  },
  "language_info": {
   "codemirror_mode": {
    "name": "ipython",
    "version": 3
   },
   "file_extension": ".py",
   "mimetype": "text/x-python",
   "name": "python",
   "nbconvert_exporter": "python",
   "pygments_lexer": "ipython3",
   "version": "3.12.6"
  }
 },
 "nbformat": 4,
 "nbformat_minor": 5
}
